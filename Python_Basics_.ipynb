{
  "nbformat": 4,
  "nbformat_minor": 0,
  "metadata": {
    "colab": {
      "provenance": []
    },
    "kernelspec": {
      "name": "python3",
      "display_name": "Python 3"
    },
    "language_info": {
      "name": "python"
    }
  },
  "cells": [
    {
      "cell_type": "markdown",
      "source": [
        "**Theory Questions**\n"
      ],
      "metadata": {
        "id": "PWKVlqvDorSI"
      }
    },
    {
      "cell_type": "markdown",
      "source": [
        "**Q.1 What is Python, and why is it popular?**\n",
        "\n",
        "  => Python is a high-level, interpreted programming language known for its simplicity and readability.\n",
        "\n",
        "**Reasons for popularity:**\n",
        "\n",
        "- Easy-to-learn syntax\n",
        "\n",
        "- Extensive libraries and frameworks\n",
        "\n",
        "- Versatility (web development, data science, AI, etc.)\n",
        "\n",
        "- Active community support"
      ],
      "metadata": {
        "id": "mD7STZZ7oyU3"
      }
    },
    {
      "cell_type": "markdown",
      "source": [
        "**Q.2 What is an interpreter in Python?**\n",
        "\n",
        "  => An interpreter is a program that executes Python code line by line, converting it into machine-readable instructions."
      ],
      "metadata": {
        "id": "j06fmfcbpmlG"
      }
    },
    {
      "cell_type": "markdown",
      "source": [
        "**Q.3 What are pre-defined keywords in Python?**\n",
        "\n",
        "  => Pre-defined keywords are reserved words with special meanings in Python (e.g., if, for, while).\n"
      ],
      "metadata": {
        "id": "ZnPLLKf2p7_d"
      }
    },
    {
      "cell_type": "markdown",
      "source": [
        "**Example**"
      ],
      "metadata": {
        "id": "J6UHjb9ZsBXk"
      }
    },
    {
      "cell_type": "code",
      "source": [
        "import keyword\n",
        "print(keyword.kwlist)  # Prints all Python keywords\n"
      ],
      "metadata": {
        "colab": {
          "base_uri": "https://localhost:8080/"
        },
        "id": "k21qQguTsFSE",
        "outputId": "b08f9775-a7e9-4754-a958-d0be7a308bac"
      },
      "execution_count": null,
      "outputs": [
        {
          "output_type": "stream",
          "name": "stdout",
          "text": [
            "['False', 'None', 'True', 'and', 'as', 'assert', 'async', 'await', 'break', 'class', 'continue', 'def', 'del', 'elif', 'else', 'except', 'finally', 'for', 'from', 'global', 'if', 'import', 'in', 'is', 'lambda', 'nonlocal', 'not', 'or', 'pass', 'raise', 'return', 'try', 'while', 'with', 'yield']\n"
          ]
        }
      ]
    },
    {
      "cell_type": "markdown",
      "source": [
        "**Q.4 Can keywords be used as variable names?**\n",
        "\n",
        "  => No, keywords cannot be used as variable names because they have predefined functionality."
      ],
      "metadata": {
        "id": "zo7bz5Fnsm30"
      }
    },
    {
      "cell_type": "markdown",
      "source": [
        "**Q.5 What is mutability in Python?**\n",
        "\n",
        "  => Mutability refers to the ability of an object to be changed after its creation.\n",
        "\n",
        "**Example:**\n",
        "\n",
        "- Mutable: list, dict\n",
        "\n",
        "- Immutable: str, tuple\n"
      ],
      "metadata": {
        "id": "V9qQ2dB3tJtW"
      }
    },
    {
      "cell_type": "markdown",
      "source": [
        "**Q.6 Why are lists mutable, but tuples are immutable?**\n",
        "\n",
        "  => Lists are mutable to allow flexibility in dynamic data manipulation. Tuples are immutable to ensure data integrity and optimize performance."
      ],
      "metadata": {
        "id": "k9wFxcJSthV8"
      }
    },
    {
      "cell_type": "markdown",
      "source": [
        "**Q.7 What is the difference between == and is operators in Python?**\n",
        "\n",
        "  =>==: Compares values.\n",
        "\n",
        "is: Compares identity (memory location).\n",
        "\n",
        "**Example:**\n"
      ],
      "metadata": {
        "id": "tmVUpNPyt4OL"
      }
    },
    {
      "cell_type": "code",
      "source": [
        "a = [1, 2]\n",
        "b = [1, 2]\n",
        "print(a == b)  # True\n",
        "print(a is b)  # False\n"
      ],
      "metadata": {
        "colab": {
          "base_uri": "https://localhost:8080/"
        },
        "id": "nlENqEObuLdu",
        "outputId": "aec25b3c-24ff-4506-bb3f-f2cb1b0579ee"
      },
      "execution_count": null,
      "outputs": [
        {
          "output_type": "stream",
          "name": "stdout",
          "text": [
            "True\n",
            "False\n"
          ]
        }
      ]
    },
    {
      "cell_type": "markdown",
      "source": [
        "**Q.8 What are logical operators in Python?**\n",
        "\n",
        "  => Logical operators perform logical operations:\n",
        "\n",
        "- and\n",
        "\n",
        "- or\n",
        "\n",
        "- not\n",
        "\n",
        "**Example:**\n",
        "\n",
        "\n",
        "\n"
      ],
      "metadata": {
        "id": "QQVN8RxEuSpr"
      }
    },
    {
      "cell_type": "code",
      "source": [
        "print(True and False)  # False\n",
        "print(True or False)   # True\n"
      ],
      "metadata": {
        "colab": {
          "base_uri": "https://localhost:8080/"
        },
        "id": "q_toM7SfvK5D",
        "outputId": "f3adc2c8-8f50-4da5-ac00-4f3bffe31108"
      },
      "execution_count": null,
      "outputs": [
        {
          "output_type": "stream",
          "name": "stdout",
          "text": [
            "False\n",
            "True\n"
          ]
        }
      ]
    },
    {
      "cell_type": "markdown",
      "source": [
        "**Q.9 What is type casting in Python?**\n",
        "\n",
        "  => Converting one data type to another.\n",
        "\n",
        "**Example:**\n",
        "\n",
        "\n"
      ],
      "metadata": {
        "id": "sHgPlAbFvO_S"
      }
    },
    {
      "cell_type": "code",
      "source": [
        "x = \"5\"\n",
        "print(int(x))  # 5\n"
      ],
      "metadata": {
        "colab": {
          "base_uri": "https://localhost:8080/"
        },
        "id": "n-_tO5QyvnF6",
        "outputId": "e66c1616-c4e7-4e8f-ecb6-c46c3437381f"
      },
      "execution_count": null,
      "outputs": [
        {
          "output_type": "stream",
          "name": "stdout",
          "text": [
            "5\n"
          ]
        }
      ]
    },
    {
      "cell_type": "markdown",
      "source": [
        "**Q.10 What is the difference between implicit and explicit type casting?**\n",
        "\n",
        "- **Implicit:** Done automatically by Python.\n",
        "\n",
        "- **Explicit:** Performed manually using casting functions.\n",
        "\n",
        "**Example:**\n"
      ],
      "metadata": {
        "id": "qLf6edqgv2tC"
      }
    },
    {
      "cell_type": "code",
      "source": [
        "# Explicit\n",
        "x = \"5\"\n",
        "y = int(x)\n",
        "\n",
        "# Implicit\n",
        "a = 5\n",
        "b = 5.5\n",
        "c = a + b  # Automatically converted to float\n"
      ],
      "metadata": {
        "id": "baXdVZVIwJEa"
      },
      "execution_count": null,
      "outputs": []
    },
    {
      "cell_type": "markdown",
      "source": [
        "**Q.11 What is the purpose of conditional statements in Python?**\n",
        "\n",
        "  => Conditional statements control the flow of execution based on conditions.\n",
        "\n",
        " **Example:**\n"
      ],
      "metadata": {
        "id": "2vO6glvFwa_D"
      }
    },
    {
      "cell_type": "code",
      "source": [
        "x = 10\n",
        "if x > 5:\n",
        "    print(\"Greater\")\n"
      ],
      "metadata": {
        "colab": {
          "base_uri": "https://localhost:8080/"
        },
        "id": "VDKYO9prwtlS",
        "outputId": "cc9f62d4-bc8c-4a61-dccf-779467763520"
      },
      "execution_count": null,
      "outputs": [
        {
          "output_type": "stream",
          "name": "stdout",
          "text": [
            "Greater\n"
          ]
        }
      ]
    },
    {
      "cell_type": "markdown",
      "source": [
        "**Q.12 How does the elif statement work?**\n",
        "\n",
        "  => The elif statement checks multiple conditions sequentially after an if condition.\n",
        "\n",
        "**Example:**\n"
      ],
      "metadata": {
        "id": "EC4OPpYDw71L"
      }
    },
    {
      "cell_type": "code",
      "source": [
        "x = 10\n",
        "if x < 5:\n",
        "    print(\"Small\")\n",
        "elif x == 10:\n",
        "    print(\"Equal\")\n"
      ],
      "metadata": {
        "colab": {
          "base_uri": "https://localhost:8080/"
        },
        "id": "3bcwAzJDxIPU",
        "outputId": "42f22491-15a1-4a9f-bda0-574d579c69e8"
      },
      "execution_count": null,
      "outputs": [
        {
          "output_type": "stream",
          "name": "stdout",
          "text": [
            "Equal\n"
          ]
        }
      ]
    },
    {
      "cell_type": "markdown",
      "source": [
        "**Q.13 What is the difference between for and while loops?**\n",
        "\n",
        "  =>\n",
        "  - for: Iterates over a sequence.\n",
        "\n",
        "  - while: Repeats until a condition becomes false.\n"
      ],
      "metadata": {
        "id": "C30MAH7IxRo7"
      }
    },
    {
      "cell_type": "markdown",
      "source": [
        "**Q.14 Describe a scenario where a while loop is more suitable than a for loop.**\n",
        "\n",
        "  => Use while when the number of iterations is not known beforehand (e.g., waiting for user input).\n"
      ],
      "metadata": {
        "id": "72vWX9UKxz_x"
      }
    },
    {
      "cell_type": "markdown",
      "source": [
        "\n",
        "\n",
        "**Practical Questions**\n"
      ],
      "metadata": {
        "id": "SgrZ2SSMygJB"
      }
    },
    {
      "cell_type": "markdown",
      "source": [
        "**Q.1 Write a Python program to print \"Hello, World!\"**\n",
        "\n",
        "\n"
      ],
      "metadata": {
        "id": "1vinjj0Ryg8Z"
      }
    },
    {
      "cell_type": "code",
      "source": [
        "print(\"Hello, World!\")\n"
      ],
      "metadata": {
        "colab": {
          "base_uri": "https://localhost:8080/"
        },
        "id": "GnlohWx3cZ2j",
        "outputId": "4a4cf8cc-a09c-40e0-f69e-3b511c7af806"
      },
      "execution_count": 1,
      "outputs": [
        {
          "output_type": "stream",
          "name": "stdout",
          "text": [
            "Hello, World!\n"
          ]
        }
      ]
    },
    {
      "cell_type": "markdown",
      "source": [
        "**Q.2 Write a Python program that displays your name and age.**"
      ],
      "metadata": {
        "id": "0jdoyh9NcdtN"
      }
    },
    {
      "cell_type": "code",
      "source": [
        "name = \"Abhishek\"\n",
        "age = 22\n",
        "print(f\"My name is {name} and I am {age} years old.\")\n"
      ],
      "metadata": {
        "colab": {
          "base_uri": "https://localhost:8080/"
        },
        "id": "JizaKSEHcy_e",
        "outputId": "c8206448-f5ba-4714-ac66-7c4122695b35"
      },
      "execution_count": 2,
      "outputs": [
        {
          "output_type": "stream",
          "name": "stdout",
          "text": [
            "My name is Abhishek and I am 22 years old.\n"
          ]
        }
      ]
    },
    {
      "cell_type": "markdown",
      "source": [
        "**Q.3 Write code to print all the pre-defined keywords in Python using the keyword library.**\n"
      ],
      "metadata": {
        "id": "DrjKwzP0c2Aw"
      }
    },
    {
      "cell_type": "code",
      "source": [
        "import keyword\n",
        "print(\"Python keywords:\", keyword.kwlist)\n"
      ],
      "metadata": {
        "colab": {
          "base_uri": "https://localhost:8080/"
        },
        "id": "McmgV79gdDNc",
        "outputId": "3276f1ce-3452-4973-d54b-2289fe29e5ef"
      },
      "execution_count": 3,
      "outputs": [
        {
          "output_type": "stream",
          "name": "stdout",
          "text": [
            "Python keywords: ['False', 'None', 'True', 'and', 'as', 'assert', 'async', 'await', 'break', 'class', 'continue', 'def', 'del', 'elif', 'else', 'except', 'finally', 'for', 'from', 'global', 'if', 'import', 'in', 'is', 'lambda', 'nonlocal', 'not', 'or', 'pass', 'raise', 'return', 'try', 'while', 'with', 'yield']\n"
          ]
        }
      ]
    },
    {
      "cell_type": "markdown",
      "source": [
        "**Q.4 Write a program that checks if a given word is a Python keyword.**\n"
      ],
      "metadata": {
        "id": "OK5GIpLRdLt0"
      }
    },
    {
      "cell_type": "code",
      "source": [
        "import keyword\n",
        "word = input(\"Enter a word: \")\n",
        "if keyword.iskeyword(word):\n",
        "    print(f\"'{word}' is a Python keyword.\")\n",
        "else:\n",
        "    print(f\"'{word}' is not a Python keyword.\")\n"
      ],
      "metadata": {
        "colab": {
          "base_uri": "https://localhost:8080/"
        },
        "id": "5--ojySjdQuQ",
        "outputId": "b4cfde5f-e136-4d7c-e8dc-2112dd0f88f9"
      },
      "execution_count": 15,
      "outputs": [
        {
          "output_type": "stream",
          "name": "stdout",
          "text": [
            "Enter a word: Python\n",
            "'Python' is not a Python keyword.\n"
          ]
        }
      ]
    },
    {
      "cell_type": "markdown",
      "source": [
        "**Q.5 Create a list and tuple in Python, and demonstrate how attempting to change an element works differently for each.**"
      ],
      "metadata": {
        "id": "uXq67ynCdnCT"
      }
    },
    {
      "cell_type": "code",
      "source": [
        "my_list = [1, 2, 3]\n",
        "my_tuple = (1, 2, 3)\n",
        "\n",
        "my_list[0] = 10  # Works\n",
        "print(\"Modified list:\", my_list)\n",
        "\n",
        "try:\n",
        "    my_tuple[0] = 10  # Fails\n",
        "except TypeError as e:\n",
        "    print(\"Error:\", e)\n"
      ],
      "metadata": {
        "colab": {
          "base_uri": "https://localhost:8080/"
        },
        "id": "uBOQlNirdwSs",
        "outputId": "48eb07b7-fcea-4d9c-b624-05925a89687c"
      },
      "execution_count": 5,
      "outputs": [
        {
          "output_type": "stream",
          "name": "stdout",
          "text": [
            "Modified list: [10, 2, 3]\n",
            "Error: 'tuple' object does not support item assignment\n"
          ]
        }
      ]
    },
    {
      "cell_type": "markdown",
      "source": [
        "**Q.6 Write a function to demonstrate the behavior of mutable and immutable arguments.**"
      ],
      "metadata": {
        "id": "Xc8ua0xZd7IU"
      }
    },
    {
      "cell_type": "code",
      "source": [
        "def modify_args(immutable, mutable):\n",
        "    immutable += 1\n",
        "    mutable.append(1)\n",
        "    print(\"Inside function:\", immutable, mutable)\n",
        "\n",
        "num = 5\n",
        "my_list = [0]\n",
        "modify_args(num, my_list)\n",
        "print(\"Outside function:\", num, my_list)\n"
      ],
      "metadata": {
        "colab": {
          "base_uri": "https://localhost:8080/"
        },
        "id": "AoglvxodeC5y",
        "outputId": "fddfec6f-a4c7-4860-8812-d38ad562e571"
      },
      "execution_count": 6,
      "outputs": [
        {
          "output_type": "stream",
          "name": "stdout",
          "text": [
            "Inside function: 6 [0, 1]\n",
            "Outside function: 5 [0, 1]\n"
          ]
        }
      ]
    },
    {
      "cell_type": "markdown",
      "source": [
        "**Q.7 Write a program to demonstrate the behavior of mutable and immutable arguments**"
      ],
      "metadata": {
        "id": "Od8vSyzpehDn"
      }
    },
    {
      "cell_type": "code",
      "source": [
        "def modify_args(immutable, mutable):\n",
        "    immutable += 1\n",
        "    mutable.append(1)\n",
        "    print(\"Inside function:\", immutable, mutable)\n",
        "\n",
        "num = 5\n",
        "my_list = [0]\n",
        "modify_args(num, my_list)\n",
        "print(\"Outside function:\", num, my_list)\n"
      ],
      "metadata": {
        "colab": {
          "base_uri": "https://localhost:8080/"
        },
        "id": "vQEFG7-ZewIx",
        "outputId": "d1dc30b8-b76e-4f39-ab50-251821fd3827"
      },
      "execution_count": 10,
      "outputs": [
        {
          "output_type": "stream",
          "name": "stdout",
          "text": [
            "Inside function: 6 [0, 1]\n",
            "Outside function: 5 [0, 1]\n"
          ]
        }
      ]
    },
    {
      "cell_type": "markdown",
      "source": [
        "**Q.8 Write a program to demonstrate the use of logical operators.**\n"
      ],
      "metadata": {
        "id": "_w-16uD7exta"
      }
    },
    {
      "cell_type": "code",
      "source": [
        "a, b, c = 10, 20, 30\n",
        "print(a < b and b < c)  # True\n",
        "print(a < b or b > c)   # True\n",
        "print(not (a > c))      # True\n"
      ],
      "metadata": {
        "colab": {
          "base_uri": "https://localhost:8080/"
        },
        "id": "6npE0CBafCcL",
        "outputId": "5368f83b-4cba-485e-aa17-50bfaa69bda5"
      },
      "execution_count": 11,
      "outputs": [
        {
          "output_type": "stream",
          "name": "stdout",
          "text": [
            "True\n",
            "True\n",
            "True\n"
          ]
        }
      ]
    },
    {
      "cell_type": "markdown",
      "source": [
        "**Q.9 Write a Python program to convert user input from string to integer, float, and boolean types**"
      ],
      "metadata": {
        "id": "NdnFj2rCfII-"
      }
    },
    {
      "cell_type": "code",
      "source": [
        "user_input = input(\"Enter a value: \")\n",
        "print(\"As integer:\", int(user_input))\n",
        "print(\"As float:\", float(user_input))\n",
        "print(\"As boolean:\", bool(user_input))"
      ],
      "metadata": {
        "colab": {
          "base_uri": "https://localhost:8080/"
        },
        "id": "9Zjveu0jfLiK",
        "outputId": "f0303ff0-9345-4001-c358-cabad27dad1d"
      },
      "execution_count": 14,
      "outputs": [
        {
          "output_type": "stream",
          "name": "stdout",
          "text": [
            "Enter a value: 15\n",
            "As integer: 15\n",
            "As float: 15.0\n",
            "As boolean: True\n"
          ]
        }
      ]
    },
    {
      "cell_type": "markdown",
      "source": [
        "**Q.10 Write code to demonstrate type casting with list elements.**"
      ],
      "metadata": {
        "id": "isRa2rNRgDj4"
      }
    },
    {
      "cell_type": "code",
      "source": [
        "str_list = [\"1\", \"2\", \"3\"]\n",
        "int_list = list(map(int, str_list))\n",
        "print(\"Converted list:\", int_list)\n"
      ],
      "metadata": {
        "colab": {
          "base_uri": "https://localhost:8080/"
        },
        "id": "zbSrniJVgMop",
        "outputId": "7a49a97e-9ae5-4252-fc64-ec44dba56792"
      },
      "execution_count": 16,
      "outputs": [
        {
          "output_type": "stream",
          "name": "stdout",
          "text": [
            "Converted list: [1, 2, 3]\n"
          ]
        }
      ]
    },
    {
      "cell_type": "markdown",
      "source": [
        "**Q.11 Write a program that checks if a number is positive, negative, or zero.**"
      ],
      "metadata": {
        "id": "YNqKa_FDgaqf"
      }
    },
    {
      "cell_type": "code",
      "source": [
        "num = float(input(\"Enter a number: \"))\n",
        "if num > 0:\n",
        "    print(\"Positive\")\n",
        "elif num < 0:\n",
        "    print(\"Negative\")\n",
        "else:\n",
        "    print(\"Zero\")\n"
      ],
      "metadata": {
        "colab": {
          "base_uri": "https://localhost:8080/"
        },
        "id": "7nJWXsSdgjKm",
        "outputId": "01b5af40-9494-4c21-bb85-0f24155a291c"
      },
      "execution_count": 18,
      "outputs": [
        {
          "output_type": "stream",
          "name": "stdout",
          "text": [
            "Enter a number: 52.003\n",
            "Positive\n"
          ]
        }
      ]
    },
    {
      "cell_type": "markdown",
      "source": [
        "**Q.12 Write a for loop to print numbers from 1 to 10.**"
      ],
      "metadata": {
        "id": "TIz1BR9ZhCY4"
      }
    },
    {
      "cell_type": "code",
      "source": [
        "for i in range(1, 11):\n",
        "    print(i)\n"
      ],
      "metadata": {
        "colab": {
          "base_uri": "https://localhost:8080/"
        },
        "id": "H8GaWf9KhQY0",
        "outputId": "9202a6ef-4b74-49f2-fcd9-27db38baae13"
      },
      "execution_count": 19,
      "outputs": [
        {
          "output_type": "stream",
          "name": "stdout",
          "text": [
            "1\n",
            "2\n",
            "3\n",
            "4\n",
            "5\n",
            "6\n",
            "7\n",
            "8\n",
            "9\n",
            "10\n"
          ]
        }
      ]
    },
    {
      "cell_type": "markdown",
      "source": [
        "**Q.13 Write a Python program to find the sum of all even numbers between 1 and 50.**"
      ],
      "metadata": {
        "id": "h9q6wJJjhSSP"
      }
    },
    {
      "cell_type": "code",
      "source": [
        "total = sum(i for i in range(1, 51) if i % 2 == 0)\n",
        "print(\"Sum of even numbers:\", total)\n"
      ],
      "metadata": {
        "colab": {
          "base_uri": "https://localhost:8080/"
        },
        "id": "gwO7ttNShdU2",
        "outputId": "e058befa-bd96-4612-c463-52f47ab3e042"
      },
      "execution_count": 20,
      "outputs": [
        {
          "output_type": "stream",
          "name": "stdout",
          "text": [
            "Sum of even numbers: 650\n"
          ]
        }
      ]
    },
    {
      "cell_type": "markdown",
      "source": [
        "**Q.14 Write a program to reverse a string using a while loop.**"
      ],
      "metadata": {
        "id": "ihXU265Whnig"
      }
    },
    {
      "cell_type": "code",
      "source": [
        "text = input(\"Enter a string: \")\n",
        "reversed_text = \"\"\n",
        "i = len(text) - 1\n",
        "while i >= 0:\n",
        "    reversed_text += text[i]\n",
        "    i -= 1\n",
        "print(\"Reversed string:\", reversed_text)\n"
      ],
      "metadata": {
        "colab": {
          "base_uri": "https://localhost:8080/"
        },
        "id": "t81c3BJ0htqP",
        "outputId": "e3f539c4-9cca-4e77-ddf6-8849adaead55"
      },
      "execution_count": 24,
      "outputs": [
        {
          "output_type": "stream",
          "name": "stdout",
          "text": [
            "Enter a string: python\n",
            "Reversed string: nohtyp\n"
          ]
        }
      ]
    },
    {
      "cell_type": "markdown",
      "source": [
        "**Q.15 Write a Python program to calculate the factorial of a number provided by the user using a while loop.**"
      ],
      "metadata": {
        "id": "JYT652bsh7nu"
      }
    },
    {
      "cell_type": "code",
      "source": [
        "num = int(input(\"Enter a number: \"))\n",
        "factorial = 1\n",
        "while num > 0:\n",
        "    factorial *= num\n",
        "    num -= 1\n",
        "print(\"Factorial:\", factorial)\n"
      ],
      "metadata": {
        "colab": {
          "base_uri": "https://localhost:8080/"
        },
        "id": "hDKVr53JiQwc",
        "outputId": "2f4d6778-9ecd-422b-e890-28ce5add6c72"
      },
      "execution_count": 23,
      "outputs": [
        {
          "output_type": "stream",
          "name": "stdout",
          "text": [
            "Enter a number: 5\n",
            "Factorial: 120\n"
          ]
        }
      ]
    }
  ]
}